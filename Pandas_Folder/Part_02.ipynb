{
 "cells": [
  {
   "cell_type": "markdown",
   "id": "18393861",
   "metadata": {},
   "source": [
    "### Pandas lec-02: Data Structures in Pandas -Series"
   ]
  },
  {
   "cell_type": "code",
   "execution_count": 2,
   "id": "f300712e",
   "metadata": {},
   "outputs": [],
   "source": [
    "import pandas as pd"
   ]
  },
  {
   "cell_type": "code",
   "execution_count": null,
   "id": "eb8d38eb",
   "metadata": {},
   "outputs": [],
   "source": [
    "# Data Structures in Python Pandas\n",
    "- Pandas mainly provides two data structures for processing the data\n",
    "    - Series\n",
    "    - DataFrame\n",
    "    - Panel"
   ]
  },
  {
   "cell_type": "code",
   "execution_count": null,
   "id": "500fefd5",
   "metadata": {},
   "outputs": [],
   "source": [
    "# Data structures: Series\n",
    "- it is defined as 1D array that is capable of storing various data types\n",
    "    syntax: pd.Series(data=None, index=None, dtype: 'Dtype | None' = None, name=None, copy: 'bool' = False, \n",
    "                                                                                     fastpath: 'bool' = False)      \n",
    "# Note: \n",
    "- if directly assigning the arguments maintain the position of positional arguments\n",
    "- in series we can perform operations easily"
   ]
  },
  {
   "cell_type": "code",
   "execution_count": 40,
   "id": "abcd0fe9",
   "metadata": {},
   "outputs": [
    {
     "name": "stdout",
     "output_type": "stream",
     "text": [
      "0    1\n",
      "1    2\n",
      "2    3\n",
      "3    4\n",
      "4    5\n",
      "dtype: int64 <class 'pandas.core.series.Series'>\n",
      "4\n"
     ]
    }
   ],
   "source": [
    "# creating Series in pandas\n",
    "l=[1,2,3,4,5]\n",
    "sr=pd.Series(l)\n",
    "print(sr,type(sr))\n",
    "print(sr[3])         # accessing value by index number"
   ]
  },
  {
   "cell_type": "code",
   "execution_count": 42,
   "id": "17ce50cc",
   "metadata": {},
   "outputs": [
    {
     "name": "stdout",
     "output_type": "stream",
     "text": [
      "a    1\n",
      "b    2\n",
      "c    3\n",
      "d    4\n",
      "e    5\n",
      "dtype: int64\n"
     ]
    },
    {
     "data": {
      "text/plain": [
       "1    25\n",
       "2    25\n",
       "3    25\n",
       "4    25\n",
       "5    25\n",
       "dtype: int64"
      ]
     },
     "execution_count": 42,
     "metadata": {},
     "output_type": "execute_result"
    }
   ],
   "source": [
    "# assigning index to the data\n",
    "l=[1,2,3,4,5]\n",
    "idx=['a','b','c','d','e']\n",
    "sr=pd.Series(l,idx)\n",
    "print(sr)\n",
    "\n",
    "# creating multiple series of same data\n",
    "idx=[1,2,3,4,5]\n",
    "sr1=pd.Series(25,idx)\n",
    "sr1"
   ]
  },
  {
   "cell_type": "code",
   "execution_count": 28,
   "id": "e1bca95c",
   "metadata": {},
   "outputs": [
    {
     "name": "stdout",
     "output_type": "stream",
     "text": [
      "a    1.0\n",
      "b    2.0\n",
      "c    3.0\n",
      "d    4.0\n",
      "e    5.0\n",
      "dtype: float64\n"
     ]
    }
   ],
   "source": [
    "# changing data type of the data\n",
    "l=[1,2,3,4,5]\n",
    "idx=['a','b','c','d','e']\n",
    "sr=pd.Series(l,idx,float)                  # maintaining positional arguments\n",
    "print(sr)"
   ]
  },
  {
   "cell_type": "code",
   "execution_count": 32,
   "id": "d9ba8335",
   "metadata": {},
   "outputs": [
    {
     "name": "stdout",
     "output_type": "stream",
     "text": [
      "a    1.0\n",
      "b    2.0\n",
      "c    3.0\n",
      "d    4.0\n",
      "e    5.0\n",
      "Name: 1st series, dtype: float64\n"
     ]
    }
   ],
   "source": [
    "# giving name to the Series data structure\n",
    "l=[1,2,3,4,5]\n",
    "idx=['a','b','c','d','e']\n",
    "sr=pd.Series(l,idx,float,'1st series')                  # maintaining positional arguments\n",
    "print(sr)"
   ]
  },
  {
   "cell_type": "code",
   "execution_count": 57,
   "id": "c13b8136",
   "metadata": {},
   "outputs": [
    {
     "name": "stdout",
     "output_type": "stream",
     "text": [
      "a    1.0\n",
      "b    2.0\n",
      "c    3.0\n",
      "d    4.0\n",
      "e    5.0\n",
      "Name: 1st series, dtype: float64 \n",
      " a    1.0\n",
      "b    2.0\n",
      "c    3.0\n",
      "d    4.0\n",
      "e    5.0\n",
      "Name: 1st series, dtype: float64\n"
     ]
    }
   ],
   "source": [
    "# Series data structure in pandas\n",
    "l=[1,2,3,4,5]\n",
    "idx=['a','b','c','d','e']\n",
    "sr=pd.Series(l,idx,float,'1st series')                          # maintaining positional arguments\n",
    "sr1=pd.Series(data=l,index=idx,dtype=float,name='1st series')      # assigning arguments\n",
    "print(sr,'\\n',sr1)"
   ]
  },
  {
   "cell_type": "code",
   "execution_count": 38,
   "id": "f0bc6e64",
   "metadata": {},
   "outputs": [
    {
     "name": "stdout",
     "output_type": "stream",
     "text": [
      "Name    [Rita, Gita, Nita, Raja]\n",
      "Age             [20, 30, 25, 35]\n",
      "Sex                 [F, F, F, M]\n",
      "dtype: object\n"
     ]
    }
   ],
   "source": [
    "# Note: we can even provide list, tuple, dictionary or set in Series data structures\n",
    "\n",
    "d={'Name':['Rita','Gita','Nita','Raja'],'Age':[20,30,25,35],'Sex':['F','F','F','M']}\n",
    "sr=pd.Series(d)\n",
    "print(sr)             # data type is object bec we get mixed data type"
   ]
  },
  {
   "cell_type": "code",
   "execution_count": 43,
   "id": "32bf595d",
   "metadata": {},
   "outputs": [
    {
     "name": "stdout",
     "output_type": "stream",
     "text": [
      "1    35.0\n",
      "2    35.0\n",
      "3    35.0\n",
      "4     NaN\n",
      "5     NaN\n",
      "dtype: float64\n"
     ]
    }
   ],
   "source": [
    "# dealing with missing data in pandas data structure\n",
    "sr1=pd.Series(25,[1,2,3,4,5])\n",
    "sr2=pd.Series(10,[1,2,3])\n",
    "print(sr1+sr2)             # it can possible in pandas but not in numpy bec of broadcasting"
   ]
  },
  {
   "cell_type": "markdown",
   "id": "8319584f",
   "metadata": {},
   "source": [
    "### Pandas lec-03: Data Structures in Pandas -DataFrame"
   ]
  },
  {
   "cell_type": "code",
   "execution_count": null,
   "id": "30af3c91",
   "metadata": {},
   "outputs": [],
   "source": [
    "# Data structures: DataFrame\n",
    "- Two-dimensional, size-mutable, potentially heterogeneous tabular data\n",
    "- Data structure also contains labeled axes (rows and columns)\n",
    "- Arithmetic operations align on both row and column labels\n",
    "- as a dict-like container for Series objects\n",
    "- The primary pandas data structure\n",
    "    syntax: pd.DataFrame(data=None, index: 'Axes | None' = None, columns: 'Axes | None' = None, dtype: 'Dtype | None' = None,\n",
    "                                                                                                copy: 'bool | None' = None)\n",
    "# Note: we can even provide list, tuple, dictionary or set in DataFrame data structures"
   ]
  },
  {
   "cell_type": "code",
   "execution_count": 74,
   "id": "1a831ab6",
   "metadata": {},
   "outputs": [
    {
     "name": "stdout",
     "output_type": "stream",
     "text": [
      "    0   1   2   3   4\n",
      "0   1   2   3   4   5\n",
      "1  11  12  13  14  15 \n",
      " <class 'pandas.core.frame.DataFrame'>\n",
      "   a  b  c\n",
      "0  1  9  3\n",
      "1  2  8  4\n",
      "2  3  7  5\n",
      "3  4  6  6\n",
      "4  5  5  7\n",
      "   c1  c2\n",
      "0   1  11\n",
      "1   2  12\n",
      "2   3  13\n",
      "3   4  14\n",
      "4   5  15\n"
     ]
    }
   ],
   "source": [
    "# creating dataframe in pandas\n",
    "l=[[1,2,3,4,5],[11,12,13,14,15]]                          # using list\n",
    "df1=pd.DataFrame(l)\n",
    "print(df1,'\\n',type(df1))\n",
    "\n",
    "d={'a':[1,2,3,4,5],'b':[9,8,7,6,5],'c':[3,4,5,6,7]}       # using dictionary -here length of data should be balanced\n",
    "df2=pd.DataFrame(d)\n",
    "print(df2)\n",
    "\n",
    "sr={'c1':pd.Series([1,2,3,4,5]),'c2':pd.Series([11,12,13,14,15])}    # using series\n",
    "df3=pd.DataFrame(sr)\n",
    "print(df3)"
   ]
  },
  {
   "cell_type": "code",
   "execution_count": 49,
   "id": "5c75cb41",
   "metadata": {},
   "outputs": [
    {
     "name": "stdout",
     "output_type": "stream",
     "text": [
      "   a\n",
      "a  1\n",
      "b  2\n",
      "c  3\n",
      "d  4\n",
      "e  5\n"
     ]
    }
   ],
   "source": [
    "# assigning index and column to the data\n",
    "l=[1,2,3,4,5]\n",
    "idx=['a','b','c','d','e']\n",
    "col=['a']\n",
    "df=pd.DataFrame(l,idx,col)\n",
    "print(df)"
   ]
  },
  {
   "cell_type": "code",
   "execution_count": 50,
   "id": "61b342cd",
   "metadata": {},
   "outputs": [
    {
     "name": "stdout",
     "output_type": "stream",
     "text": [
      "     a\n",
      "a  1.0\n",
      "b  2.0\n",
      "c  3.0\n",
      "d  4.0\n",
      "e  5.0\n"
     ]
    }
   ],
   "source": [
    "# changing data type of the data\n",
    "l=[1,2,3,4,5]\n",
    "idx=['a','b','c','d','e']\n",
    "col=['a']\n",
    "df=pd.DataFrame(l,idx,col,float)\n",
    "print(df)"
   ]
  },
  {
   "cell_type": "code",
   "execution_count": 58,
   "id": "8e73795d",
   "metadata": {},
   "outputs": [
    {
     "name": "stdout",
     "output_type": "stream",
     "text": [
      "     a\n",
      "a  1.0\n",
      "b  2.0\n",
      "c  3.0\n",
      "d  4.0\n",
      "e  5.0\n"
     ]
    }
   ],
   "source": [
    "# DataFrame data structure in pandas\n",
    "l=[1,2,3,4,5]\n",
    "idx=['a','b','c','d','e']\n",
    "col=['a']\n",
    "df=pd.DataFrame(l,idx,col,float)                             # maintaining positional arguments\n",
    "df1=pd.DataFrame(data=l,index=idx,columns=col,dtype=float)        # or by assigning arguments --prefer this to avoid error\n",
    "print(df1)"
   ]
  },
  {
   "cell_type": "code",
   "execution_count": 5,
   "id": "e53f9664",
   "metadata": {},
   "outputs": [
    {
     "name": "stdout",
     "output_type": "stream",
     "text": [
      "   b  c\n",
      "0  9  3\n",
      "1  8  4\n",
      "2  7  5\n",
      "3  6  6\n",
      "4  5  7\n",
      "6\n"
     ]
    }
   ],
   "source": [
    "# accessing values by index or columns                             \n",
    "d={'a':[1,2,3,4,5],'b':[9,8,7,6,5],'c':[3,4,5,6,7]}\n",
    "\n",
    "# accessing data from columns\n",
    "df=pd.DataFrame(d,columns=['b','c'])\n",
    "print(df)\n",
    "\n",
    "# accessing data by index                                ------ask--------\n",
    "\n",
    "# to access any particular data in DataFrame\n",
    "print(df['b'][3])                      "
   ]
  },
  {
   "cell_type": "code",
   "execution_count": 81,
   "id": "ac109fd2",
   "metadata": {},
   "outputs": [
    {
     "name": "stdout",
     "output_type": "stream",
     "text": [
      "     a   b  c\n",
      "1st  1   9  3\n",
      "2nd  2   8  4\n",
      "3rd  3  25  5\n",
      "4th  4   6  6\n",
      "5th  5   5  7\n"
     ]
    }
   ],
   "source": [
    "# changing index of DataFrame\n",
    "d={'a':[1,2,3,4,5],'b':[9,8,25,6,5],'c':[3,4,5,6,7]}\n",
    "idx=['1st','2nd','3rd','4th','5th']\n",
    "df=pd.DataFrame(d,idx)\n",
    "print(df)\n"
   ]
  },
  {
   "cell_type": "code",
   "execution_count": null,
   "id": "2f440188",
   "metadata": {},
   "outputs": [],
   "source": []
  },
  {
   "cell_type": "code",
   "execution_count": null,
   "id": "d1fc12be",
   "metadata": {},
   "outputs": [],
   "source": []
  }
 ],
 "metadata": {
  "kernelspec": {
   "display_name": "Python 3 (ipykernel)",
   "language": "python",
   "name": "python3"
  },
  "language_info": {
   "codemirror_mode": {
    "name": "ipython",
    "version": 3
   },
   "file_extension": ".py",
   "mimetype": "text/x-python",
   "name": "python",
   "nbconvert_exporter": "python",
   "pygments_lexer": "ipython3",
   "version": "3.10.8"
  }
 },
 "nbformat": 4,
 "nbformat_minor": 5
}
