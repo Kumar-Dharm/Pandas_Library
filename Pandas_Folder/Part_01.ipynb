{
 "cells": [
  {
   "cell_type": "code",
   "execution_count": null,
   "id": "94ab89b5",
   "metadata": {},
   "outputs": [],
   "source": [
    "# Index\n",
    "P1Lec-01: Data Analysis\n",
    "    P2Lec-02: Data Structures in Pandas -Series\n",
    "    P2Lec-03: Data Structures in Pandas -DataFrame\n",
    "P3Lec-04: Arithmetic Operations in Pandas\n",
    "P3Lec-05: Logical Operators in Pandas\n",
    "P3Lec-06: Insert and Delete Functions in Pandas\n",
    "    P4Lec-07: CSV File Creation in Pandas\n",
    "    P4Lec-08: CSV File Reading in Pandas\n",
    "    P4Lec-09: File Functions in Pandas\n",
    "P5Lec-10: Handling Missing Data -I\n",
    "P5Lec-11: Handling Missing Data -II\n",
    "    P6Lec-12: Merging and Concat in Pandas\n",
    "    P6Lec-13: Join and Append Function in Pandas\n",
    "P7Lec-14: Group by Dataframe Function\n",
    "P7Lec-15: Pivot Table and Melt Functions"
   ]
  },
  {
   "cell_type": "markdown",
   "id": "bb2965f5",
   "metadata": {},
   "source": [
    "### Pandas lec-01: Data Analysis"
   ]
  },
  {
   "cell_type": "code",
   "execution_count": null,
   "id": "4bc60641",
   "metadata": {},
   "outputs": [],
   "source": [
    "# What is Data Analysis?\n",
    "- Data analysis is a process of inspecting, cleaning, transforming and modelling data \n",
    "    with the goal of discovering useful information, informing conclusions and supporting decision-making.\n",
    "    \n",
    "# Process/ways of data analysis:\n",
    "    1. By Data Visualization\n",
    "    2. By Mathematical analysis"
   ]
  },
  {
   "cell_type": "code",
   "execution_count": null,
   "id": "8f927c1c",
   "metadata": {},
   "outputs": [],
   "source": [
    "# Python libraries for Data analysis\n",
    "NumPy, Pandas, matplotlib, SciPy, seaborn, statsmodel, scikit_learn"
   ]
  },
  {
   "cell_type": "code",
   "execution_count": null,
   "id": "1aa0455d",
   "metadata": {},
   "outputs": [],
   "source": [
    "# Pandas in Python\n",
    "1. what is Pandas\n",
    "2. Pandas vs Excel\n",
    "3. Pandas Data structures\n",
    "4. Installation and Import Pandas\n",
    "5. Importance of Pandas"
   ]
  },
  {
   "cell_type": "code",
   "execution_count": null,
   "id": "978c38ba",
   "metadata": {},
   "outputs": [],
   "source": [
    "# 1. what is Pandas\n",
    "- Pandas has a reference to both 'panel data' and 'python data analysis'\n",
    "- created by Wes Mckinney in 2008\n",
    "- It is a python library used for working with data sets\n",
    "- It has functions for analyzing, cleaning, exploring and manipulating data\n",
    "- It can read and write data structures in different formats: csv, txt, HTML, JSON, ZIP etc."
   ]
  },
  {
   "cell_type": "code",
   "execution_count": null,
   "id": "bb2070ed",
   "metadata": {},
   "outputs": [],
   "source": [
    "# 2. Pandas vs Excel\n",
    "- faster than excel\n",
    "- can handle big data sets by importing and extracting\n",
    "- it can access different file formats\n",
    "- it has a number of functions for data analysis"
   ]
  },
  {
   "cell_type": "code",
   "execution_count": null,
   "id": "48b33433",
   "metadata": {},
   "outputs": [],
   "source": [
    "# 3. Pandas Data structures\n",
    "- Three data structures in Pandas:\n",
    "    i) Series: one-dimensional labeled arrays pd.Series(data)\n",
    "    ii) DataFrames:two-dimensional data structures with columns, much like a Table\n",
    "    iii) Panel: panel is a 3D container of data"
   ]
  },
  {
   "cell_type": "code",
   "execution_count": 1,
   "id": "4c5c67b3",
   "metadata": {
    "scrolled": true
   },
   "outputs": [
    {
     "name": "stdout",
     "output_type": "stream",
     "text": [
      "Collecting pandas\n",
      "  Downloading pandas-1.5.3-cp310-cp310-win_amd64.whl (10.4 MB)\n",
      "     ---------------------------------------- 10.4/10.4 MB 2.7 MB/s eta 0:00:00\n",
      "Requirement already satisfied: pytz>=2020.1 in c:\\users\\dharmendra kumar\\miniconda3\\lib\\site-packages (from pandas) (2022.7)\n",
      "Requirement already satisfied: python-dateutil>=2.8.1 in c:\\users\\dharmendra kumar\\miniconda3\\lib\\site-packages (from pandas) (2.8.2)\n",
      "Requirement already satisfied: numpy>=1.21.0 in c:\\users\\dharmendra kumar\\miniconda3\\lib\\site-packages (from pandas) (1.24.2)\n",
      "Requirement already satisfied: six>=1.5 in c:\\users\\dharmendra kumar\\miniconda3\\lib\\site-packages (from python-dateutil>=2.8.1->pandas) (1.16.0)\n",
      "Installing collected packages: pandas\n",
      "Successfully installed pandas-1.5.3\n",
      "Note: you may need to restart the kernel to use updated packages.\n"
     ]
    }
   ],
   "source": [
    "# 4. Installation of Pandas\n",
    "pip install pandas"
   ]
  },
  {
   "cell_type": "code",
   "execution_count": 1,
   "id": "7b5771a2",
   "metadata": {},
   "outputs": [],
   "source": [
    "# Import Pandas\n",
    "import pandas as pd"
   ]
  },
  {
   "cell_type": "code",
   "execution_count": null,
   "id": "bbfd0682",
   "metadata": {},
   "outputs": [],
   "source": [
    "# 5. Importance of Pandas\n",
    "- it allows us to analyse big data and make conclusions based on statistical theories\n",
    "- to clean messy data sets, and make them readable and relevant\n",
    "- easy handling of missing data(represented as NaN) in floating point as well as non-floating point data\n",
    "- size mutability: columns can be inserted and deleted from DataFrame and higher dimensional objects\n",
    "- data set merging and joining\n",
    "- flexible reshaping and pivoting of data sets provides time-series functionality\n",
    "- very effective in 1D and 2D data structures"
   ]
  },
  {
   "cell_type": "code",
   "execution_count": null,
   "id": "23c11938",
   "metadata": {},
   "outputs": [],
   "source": []
  },
  {
   "cell_type": "code",
   "execution_count": null,
   "id": "2d81964e",
   "metadata": {},
   "outputs": [],
   "source": [
    "# lets take raw data to start\n",
    "d={'a':[23,46,86,27,92],'b':[77,37,24,85,25],'c':[73,82,95,63,55],'d':[63,94,33,54,14]}\n",
    "idx=[1,2,3,4,5]"
   ]
  },
  {
   "cell_type": "code",
   "execution_count": null,
   "id": "fd002e9e",
   "metadata": {},
   "outputs": [],
   "source": []
  },
  {
   "cell_type": "code",
   "execution_count": null,
   "id": "f41ed130",
   "metadata": {},
   "outputs": [],
   "source": []
  }
 ],
 "metadata": {
  "kernelspec": {
   "display_name": "Python 3 (ipykernel)",
   "language": "python",
   "name": "python3"
  },
  "language_info": {
   "codemirror_mode": {
    "name": "ipython",
    "version": 3
   },
   "file_extension": ".py",
   "mimetype": "text/x-python",
   "name": "python",
   "nbconvert_exporter": "python",
   "pygments_lexer": "ipython3",
   "version": "3.10.8"
  }
 },
 "nbformat": 4,
 "nbformat_minor": 5
}
